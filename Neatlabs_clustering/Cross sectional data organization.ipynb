{
 "cells": [
  {
   "cell_type": "code",
   "execution_count": 43,
   "metadata": {},
   "outputs": [],
   "source": [
    "import numpy as np\n",
    "import pandas as pd\n",
    "import os\n",
    "import sys\n",
    "import glob\n",
    "import re\n",
    "from natsort import natsorted"
   ]
  },
  {
   "cell_type": "code",
   "execution_count": 17,
   "metadata": {},
   "outputs": [],
   "source": []
  },
  {
   "cell_type": "code",
   "execution_count": 75,
   "metadata": {},
   "outputs": [],
   "source": [
    "### Spearman corr\n",
    "directory_path='C:/Users/jason/OneDrive/Desktop/MS Beng/Neatlabs/PERMA_pipeline/upload/'\n",
    "corr_df=pd.DataFrame()\n",
    "files_list = glob.glob(os.path.join(directory_path, '**', 'spearmanr.csv'), recursive=True)\n",
    "files_list = [file for file in files_list if 'depanx' not in file]\n",
    "\n",
    "for file in files_list:\n",
    "    name=re.search(r'perma\\d+',file).group()\n",
    "    df = pd.read_csv(file,index_col=0).rename(columns={'corr':name})[name]\n",
    "    corr_df=pd.concat([corr_df,df],axis=1)\n",
    "\n",
    "#corr_df = corr_df[natsorted(corr_df.columns)]\n",
    "#corr_df.to_csv(\"C:/Users/jason/OneDrive/Desktop/MS Beng/Neatlabs/PERMA_pipeline/completed_analysis/Clustering/corr_values.csv\")"
   ]
  },
  {
   "cell_type": "code",
   "execution_count": 76,
   "metadata": {},
   "outputs": [
    {
     "data": {
      "text/plain": [
       "Mood_anxious                  0.833934\n",
       "time_of_day                  -0.267991\n",
       "Exercise_satisfaction        -0.249544\n",
       "past_day_caffeine            -0.184127\n",
       "Sleep_duration               -0.178655\n",
       "Diet_satisfaction            -0.164431\n",
       "Breath_response               0.153745\n",
       "Connect_satisfaction         -0.138272\n",
       "Sleep_bedtime                 0.127348\n",
       "Connect_chattime             -0.110189\n",
       "past_day_exercise_mild       -0.089546\n",
       "Reflect_totaltime            -0.064476\n",
       "Gratitude                     0.063842\n",
       "Sleep_percent                 0.040482\n",
       "Sleep_satisfaction            0.035573\n",
       "Reflect_activetime            0.028662\n",
       "past_day_exercise_moderate   -0.028626\n",
       "Breath_consistency           -0.019884\n",
       "past_day_sugars              -0.015630\n",
       "Sleep_wakeuptime              0.013378\n",
       "Connect_chatpeople            0.008878\n",
       "past_day_fats                -0.008723\n",
       "Name: perma9, dtype: float64"
      ]
     },
     "execution_count": 76,
     "metadata": {},
     "output_type": "execute_result"
    }
   ],
   "source": [
    "df"
   ]
  },
  {
   "cell_type": "code",
   "execution_count": null,
   "metadata": {},
   "outputs": [],
   "source": [
    "def extract_perma_number(file_path):\n",
    "    match = re.search(r'perma\\d+', file_path)\n",
    "    if match:\n",
    "        return match.group()\n",
    "    else:\n",
    "        return None"
   ]
  },
  {
   "cell_type": "code",
   "execution_count": 39,
   "metadata": {},
   "outputs": [
    {
     "data": {
      "text/plain": [
       "'perma9'"
      ]
     },
     "execution_count": 39,
     "metadata": {},
     "output_type": "execute_result"
    }
   ],
   "source": [
    "re.search(r'perma\\d+',file).group()"
   ]
  },
  {
   "cell_type": "code",
   "execution_count": 83,
   "metadata": {},
   "outputs": [
    {
     "name": "stderr",
     "output_type": "stream",
     "text": [
      "<ipython-input-83-ec0c49b79282>:7: FutureWarning: Dropping of nuisance columns in DataFrame reductions (with 'numeric_only=None') is deprecated; in a future version this will raise TypeError.  Select only valid columns before calling the reduction.\n",
      "  df = pd.read_csv(file,index_col=0).drop(columns=['datestamp']).mean().rename(name)\n"
     ]
    }
   ],
   "source": [
    "directory_path='C:/Users/jason/OneDrive/Desktop/MS Beng/Neatlabs/PERMA_pipeline/upload/'\n",
    "mindlog_df=pd.DataFrame()\n",
    "files_list = glob.glob(os.path.join(directory_path, '**', 'combined_features.csv'), recursive=True)\n",
    "files_list = [file for file in files_list if 'depanx' not in file]\n",
    "for file in files_list:\n",
    "    name=re.search(r'perma\\d+',file).group()\n",
    "    df = pd.read_csv(file,index_col=0).drop(columns=['datestamp']).mean().rename(name)\n",
    "    mindlog_df=pd.concat([mindlog_df,df],axis=1)\n",
    "mindlog_df = mindlog_df[natsorted(mindlog_df.columns)]\n",
    "mindlog_df.to_csv(\"C:/Users/jason/OneDrive/Desktop/MS Beng/Neatlabs/PERMA_pipeline/completed_analysis/Clustering/mindlog_mean.csv\")"
   ]
  },
  {
   "cell_type": "code",
   "execution_count": 82,
   "metadata": {},
   "outputs": [
    {
     "data": {
      "text/plain": [
       "Mood_anxious                      9.067797\n",
       "Mood_depressed                    9.627119\n",
       "Sleep_bedtime                    10.364407\n",
       "Sleep_wakeuptime                  7.288136\n",
       "Sleep_duration                    6.669492\n",
       "Sleep_percent                    71.440678\n",
       "Sleep_satisfaction                2.000000\n",
       "Exercise_satisfaction             4.711864\n",
       "Diet_satisfaction                 4.355932\n",
       "Connect_chatpeople                0.288136\n",
       "Connect_chattime                  0.072034\n",
       "Connect_volunteertime             0.033898\n",
       "Connect_satisfaction              4.694915\n",
       "Reflect_totaltime             28008.333333\n",
       "Reflect_activetime             7225.166667\n",
       "Gratitude                         4.133333\n",
       "past_day_fats                    15.355932\n",
       "past_day_sugars                   2.440678\n",
       "past_day_caffeine                 5.644068\n",
       "heart_rate                       77.833333\n",
       "cumm_step_count                 256.576271\n",
       "cumm_step_calorie                 8.677627\n",
       "cumm_step_speed                   1.143671\n",
       "cumm_step_distance              172.337119\n",
       "exercise_calorie                  4.554576\n",
       "exercise_duration                 1.894790\n",
       "past_day_exercise_moderate        0.033898\n",
       "past_day_exercise_mild            0.796610\n",
       "time_of_day                       2.542373\n",
       "Breath_consistency                0.343887\n",
       "Breath_response                1974.502801\n",
       "Name: perma10, dtype: float64"
      ]
     },
     "execution_count": 82,
     "metadata": {},
     "output_type": "execute_result"
    }
   ],
   "source": [
    "df.rename(name)"
   ]
  },
  {
   "cell_type": "code",
   "execution_count": 33,
   "metadata": {
    "scrolled": true
   },
   "outputs": [
    {
     "data": {
      "text/html": [
       "<div>\n",
       "<style scoped>\n",
       "    .dataframe tbody tr th:only-of-type {\n",
       "        vertical-align: middle;\n",
       "    }\n",
       "\n",
       "    .dataframe tbody tr th {\n",
       "        vertical-align: top;\n",
       "    }\n",
       "\n",
       "    .dataframe thead th {\n",
       "        text-align: right;\n",
       "    }\n",
       "</style>\n",
       "<table border=\"1\" class=\"dataframe\">\n",
       "  <thead>\n",
       "    <tr style=\"text-align: right;\">\n",
       "      <th></th>\n",
       "      <th>pilot</th>\n",
       "      <th>aaa</th>\n",
       "    </tr>\n",
       "  </thead>\n",
       "  <tbody>\n",
       "    <tr>\n",
       "      <th>Mood_anxious</th>\n",
       "      <td>123.0</td>\n",
       "      <td>0.833934</td>\n",
       "    </tr>\n",
       "    <tr>\n",
       "      <th>asdf</th>\n",
       "      <td>222.0</td>\n",
       "      <td>NaN</td>\n",
       "    </tr>\n",
       "    <tr>\n",
       "      <th>time_of_day</th>\n",
       "      <td>NaN</td>\n",
       "      <td>-0.267991</td>\n",
       "    </tr>\n",
       "    <tr>\n",
       "      <th>Exercise_satisfaction</th>\n",
       "      <td>NaN</td>\n",
       "      <td>-0.249544</td>\n",
       "    </tr>\n",
       "    <tr>\n",
       "      <th>past_day_caffeine</th>\n",
       "      <td>NaN</td>\n",
       "      <td>-0.184127</td>\n",
       "    </tr>\n",
       "    <tr>\n",
       "      <th>Sleep_duration</th>\n",
       "      <td>NaN</td>\n",
       "      <td>-0.178655</td>\n",
       "    </tr>\n",
       "    <tr>\n",
       "      <th>Diet_satisfaction</th>\n",
       "      <td>NaN</td>\n",
       "      <td>-0.164431</td>\n",
       "    </tr>\n",
       "    <tr>\n",
       "      <th>Breath_response</th>\n",
       "      <td>NaN</td>\n",
       "      <td>0.153745</td>\n",
       "    </tr>\n",
       "    <tr>\n",
       "      <th>Connect_satisfaction</th>\n",
       "      <td>NaN</td>\n",
       "      <td>-0.138272</td>\n",
       "    </tr>\n",
       "    <tr>\n",
       "      <th>Sleep_bedtime</th>\n",
       "      <td>NaN</td>\n",
       "      <td>0.127348</td>\n",
       "    </tr>\n",
       "    <tr>\n",
       "      <th>Connect_chattime</th>\n",
       "      <td>NaN</td>\n",
       "      <td>-0.110189</td>\n",
       "    </tr>\n",
       "    <tr>\n",
       "      <th>past_day_exercise_mild</th>\n",
       "      <td>NaN</td>\n",
       "      <td>-0.089546</td>\n",
       "    </tr>\n",
       "    <tr>\n",
       "      <th>Reflect_totaltime</th>\n",
       "      <td>NaN</td>\n",
       "      <td>-0.064476</td>\n",
       "    </tr>\n",
       "    <tr>\n",
       "      <th>Gratitude</th>\n",
       "      <td>NaN</td>\n",
       "      <td>0.063842</td>\n",
       "    </tr>\n",
       "    <tr>\n",
       "      <th>Sleep_percent</th>\n",
       "      <td>NaN</td>\n",
       "      <td>0.040482</td>\n",
       "    </tr>\n",
       "    <tr>\n",
       "      <th>Sleep_satisfaction</th>\n",
       "      <td>NaN</td>\n",
       "      <td>0.035573</td>\n",
       "    </tr>\n",
       "    <tr>\n",
       "      <th>Reflect_activetime</th>\n",
       "      <td>NaN</td>\n",
       "      <td>0.028662</td>\n",
       "    </tr>\n",
       "    <tr>\n",
       "      <th>past_day_exercise_moderate</th>\n",
       "      <td>NaN</td>\n",
       "      <td>-0.028626</td>\n",
       "    </tr>\n",
       "    <tr>\n",
       "      <th>Breath_consistency</th>\n",
       "      <td>NaN</td>\n",
       "      <td>-0.019884</td>\n",
       "    </tr>\n",
       "    <tr>\n",
       "      <th>past_day_sugars</th>\n",
       "      <td>NaN</td>\n",
       "      <td>-0.015630</td>\n",
       "    </tr>\n",
       "    <tr>\n",
       "      <th>Sleep_wakeuptime</th>\n",
       "      <td>NaN</td>\n",
       "      <td>0.013378</td>\n",
       "    </tr>\n",
       "    <tr>\n",
       "      <th>Connect_chatpeople</th>\n",
       "      <td>NaN</td>\n",
       "      <td>0.008878</td>\n",
       "    </tr>\n",
       "    <tr>\n",
       "      <th>past_day_fats</th>\n",
       "      <td>NaN</td>\n",
       "      <td>-0.008723</td>\n",
       "    </tr>\n",
       "  </tbody>\n",
       "</table>\n",
       "</div>"
      ],
      "text/plain": [
       "                            pilot       aaa\n",
       "Mood_anxious                123.0  0.833934\n",
       "asdf                        222.0       NaN\n",
       "time_of_day                   NaN -0.267991\n",
       "Exercise_satisfaction         NaN -0.249544\n",
       "past_day_caffeine             NaN -0.184127\n",
       "Sleep_duration                NaN -0.178655\n",
       "Diet_satisfaction             NaN -0.164431\n",
       "Breath_response               NaN  0.153745\n",
       "Connect_satisfaction          NaN -0.138272\n",
       "Sleep_bedtime                 NaN  0.127348\n",
       "Connect_chattime              NaN -0.110189\n",
       "past_day_exercise_mild        NaN -0.089546\n",
       "Reflect_totaltime             NaN -0.064476\n",
       "Gratitude                     NaN  0.063842\n",
       "Sleep_percent                 NaN  0.040482\n",
       "Sleep_satisfaction            NaN  0.035573\n",
       "Reflect_activetime            NaN  0.028662\n",
       "past_day_exercise_moderate    NaN -0.028626\n",
       "Breath_consistency            NaN -0.019884\n",
       "past_day_sugars               NaN -0.015630\n",
       "Sleep_wakeuptime              NaN  0.013378\n",
       "Connect_chatpeople            NaN  0.008878\n",
       "past_day_fats                 NaN -0.008723"
      ]
     },
     "execution_count": 33,
     "metadata": {},
     "output_type": "execute_result"
    }
   ],
   "source": [
    "df = pd.read_csv(file,index_col=0).rename(columns={'corr':'aaa'})['aaa']\n",
    "\n",
    "d=pd.DataFrame()\n",
    "e=pd.DataFrame({'pilot':[123,222]},index=(['Mood_anxious','asdf']))\n",
    "d=pd.concat([d,e],axis=1)\n",
    "d=pd.concat([d,df],axis=1)\n",
    "d"
   ]
  },
  {
   "cell_type": "code",
   "execution_count": null,
   "metadata": {},
   "outputs": [],
   "source": [
    "shaps2 = pd.DataFrame(np.vstack(shaps), columns=pd.concat(xs,axis=0).columns)\n",
    "top_vars = list(shaps2.sum(axis=0).sort_values(ascending=False).iloc[0:].index)\n",
    "shap_df=shaps2.sum(axis=0).sort_values(ascending=False).to_frame(name=pilot)\n"
   ]
  }
 ],
 "metadata": {
  "kernelspec": {
   "display_name": "Python 3 (ipykernel)",
   "language": "python",
   "name": "python3"
  },
  "language_info": {
   "codemirror_mode": {
    "name": "ipython",
    "version": 3
   },
   "file_extension": ".py",
   "mimetype": "text/x-python",
   "name": "python",
   "nbconvert_exporter": "python",
   "pygments_lexer": "ipython3",
   "version": "3.8.15"
  }
 },
 "nbformat": 4,
 "nbformat_minor": 4
}
