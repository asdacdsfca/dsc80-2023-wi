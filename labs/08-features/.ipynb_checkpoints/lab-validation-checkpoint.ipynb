{
 "cells": [
  {
   "cell_type": "markdown",
   "id": "1952f116",
   "metadata": {
    "deletable": false,
    "editable": false
   },
   "source": [
    "\n",
    "# Lab 8 Validation Notebook\n",
    "\n",
    "You cannot write any code in this notebook – to actually work on the lab, open `lab.py` and `lab.ipynb`.\n",
    "\n",
    "The only purpose of this notebook is to give you a blank copy of `lab.ipynb`,\n",
    "so that you can go to **Kernel > Restart & Run All** and ensure that all public `grader.check` cells pass using just the code in your `lab.py`.\n",
    "\n",
    "**Before submitting Lab 8, make sure that the call to `grader.check_all()` at the bottom of this notebook shows that all test cases passed!** \n",
    "If it doesn't, there's likely a function in `lab.ipynb` that is not implemented correctly in `lab.py`, or it could be that a function in `lab.py` depends on an object (e.g. a DataFrame) that is not an argument to that function.\n",
    "    "
   ]
  },
  {
   "cell_type": "code",
   "execution_count": null,
   "id": "1182c403",
   "metadata": {
    "deletable": false,
    "editable": false
   },
   "outputs": [],
   "source": [
    "# Initialize Otter\n",
    "import otter\n",
    "grader = otter.Notebook(\"lab.ipynb\")"
   ]
  },
  {
   "cell_type": "code",
   "execution_count": null,
   "id": "925672b0",
   "metadata": {
    "deletable": false,
    "editable": false
   },
   "outputs": [],
   "source": [
    "%load_ext autoreload\n",
    "%autoreload 2"
   ]
  },
  {
   "cell_type": "code",
   "execution_count": null,
   "id": "063cfe6f",
   "metadata": {
    "deletable": false,
    "editable": false
   },
   "outputs": [],
   "source": [
    "from lab import *"
   ]
  },
  {
   "cell_type": "code",
   "execution_count": null,
   "id": "906de11e",
   "metadata": {
    "deletable": false,
    "editable": false
   },
   "outputs": [],
   "source": [
    "import pandas as pd\n",
    "import numpy as np\n",
    "import plotly.express as px\n",
    "import statsmodels.api as sm\n",
    "import os\n",
    "from sklearn.preprocessing import Binarizer, QuantileTransformer, FunctionTransformer\n",
    "\n",
    "import warnings\n",
    "warnings.filterwarnings('ignore')"
   ]
  },
  {
   "cell_type": "code",
   "execution_count": null,
   "id": "96ce0c7c",
   "metadata": {
    "deletable": false,
    "editable": false
   },
   "outputs": [],
   "source": [
    "# By setting a seed, we guarantee that we will see the same results each time we run this cell.\n",
    "np.random.seed(23)\n",
    "\n",
    "# Generates a random scatter plot\n",
    "x = np.arange(1, 101) + np.random.normal(0, 0.5, 100)\n",
    "y = 2 * ((x + np.random.normal(0, 1, 100)) ** 2) + np.abs(x) * np.random.normal(0, 30, 100)\n",
    "df_1 = pd.DataFrame().assign(x=x, y=y)\n",
    "\n",
    "px.scatter(df_1, x='x', y='y', trendline=\"ols\", trendline_color_override=\"red\")"
   ]
  },
  {
   "cell_type": "code",
   "execution_count": null,
   "id": "a7ee8bed",
   "metadata": {
    "deletable": false,
    "editable": false
   },
   "outputs": [],
   "source": [
    "df_1['root y'] = np.sqrt(df_1['y'])\n",
    "\n",
    "px.scatter(df_1, x='x', y='root y', trendline=\"ols\", trendline_color_override=\"red\")"
   ]
  },
  {
   "cell_type": "code",
   "execution_count": null,
   "id": "39ad9e1b",
   "metadata": {
    "deletable": false,
    "editable": false
   },
   "outputs": [],
   "source": [
    "# By setting a seed, we guarantee that we will see the same results each time we run this cell\n",
    "np.random.seed(32)\n",
    "\n",
    "# Generates a different random scatter plot\n",
    "x = np.linspace(2, 5, 100)\n",
    "y = 10 * (np.e ** x) + np.abs(x) * np.random.normal(0, 5, 100) + np.random.normal(0, 30, 100)\n",
    "df_2 = pd.DataFrame().assign(x=x, y=y)\n",
    "\n",
    "px.scatter(df_2, x='x', y='y', trendline=\"ols\", trendline_color_override=\"red\")"
   ]
  },
  {
   "cell_type": "code",
   "execution_count": null,
   "id": "506db972",
   "metadata": {
    "deletable": false,
    "editable": false
   },
   "outputs": [],
   "source": [
    "df_2['root y'] = np.sqrt(df_2['y'])\n",
    "\n",
    "px.scatter(df_2, x='x', y='root y', trendline=\"ols\", trendline_color_override=\"red\")"
   ]
  },
  {
   "cell_type": "code",
   "execution_count": null,
   "id": "62912d4b",
   "metadata": {
    "deletable": false,
    "editable": false
   },
   "outputs": [],
   "source": [
    "# Feel free to use this function directly to help you answer Question 1.\n",
    "def create_residual_plot(df, x, y):\n",
    "    df = df.copy()\n",
    "    from sklearn.linear_model import LinearRegression\n",
    "    model = LinearRegression()\n",
    "    model.fit(df[[x]], df[y])\n",
    "    df[f'{y} residuals'] = df[y] - model.predict(df[[x]])\n",
    "    return px.scatter(df, x=x, y=f'{y} residuals', trendline='ols', trendline_color_override='red')\n",
    "\n",
    "create_residual_plot(df_2, 'x', 'root y')"
   ]
  },
  {
   "cell_type": "code",
   "execution_count": null,
   "id": "eecc065a",
   "metadata": {
    "deletable": false,
    "editable": false
   },
   "outputs": [],
   "source": [
    "df_2['log y'] = np.log(df_2['y'])\n",
    "\n",
    "px.scatter(df_2, x='x', y='log y', trendline=\"ols\", trendline_color_override=\"red\")"
   ]
  },
  {
   "cell_type": "code",
   "execution_count": null,
   "id": "3290f9dd",
   "metadata": {
    "deletable": false,
    "editable": false
   },
   "outputs": [],
   "source": [
    "create_residual_plot(df_2, 'x', 'log y')"
   ]
  },
  {
   "cell_type": "code",
   "execution_count": null,
   "id": "e418d200",
   "metadata": {
    "deletable": false,
    "editable": false
   },
   "outputs": [],
   "source": [
    "homeruns_fp = os.path.join('data', 'homeruns.csv')\n",
    "homeruns = pd.read_csv(homeruns_fp)"
   ]
  },
  {
   "cell_type": "code",
   "execution_count": null,
   "id": "b525f17b",
   "metadata": {
    "deletable": false,
    "editable": false
   },
   "outputs": [],
   "source": [
    "grader.check(\"q1\")"
   ]
  },
  {
   "cell_type": "code",
   "execution_count": null,
   "id": "70d43cf5",
   "metadata": {
    "deletable": false,
    "editable": false
   },
   "outputs": [],
   "source": [
    "diamonds = pd.read_csv(os.path.join('data', 'diamonds.csv'))\n",
    "diamonds.head()"
   ]
  },
  {
   "cell_type": "code",
   "execution_count": null,
   "id": "b85f3034",
   "metadata": {
    "deletable": false,
    "editable": false
   },
   "outputs": [],
   "source": [
    "# don't change this cell, but do run it -- it is needed for the tests to work\n",
    "diamonds = pd.read_csv(os.path.join('data', 'diamonds.csv'))\n",
    "out_q2 = create_ordinal(diamonds)"
   ]
  },
  {
   "cell_type": "code",
   "execution_count": null,
   "id": "44336c34",
   "metadata": {
    "deletable": false,
    "editable": false
   },
   "outputs": [],
   "source": [
    "grader.check(\"q2\")"
   ]
  },
  {
   "cell_type": "code",
   "execution_count": null,
   "id": "7714b634",
   "metadata": {
    "deletable": false,
    "editable": false
   },
   "outputs": [],
   "source": [
    "# don't change this cell, but do run it -- it is needed for the tests to work\n",
    "diamonds = pd.read_csv(os.path.join('data', 'diamonds.csv'))\n",
    "out1_q3 = create_one_hot(diamonds)\n",
    "out2_q3 = create_proportions(diamonds)"
   ]
  },
  {
   "cell_type": "code",
   "execution_count": null,
   "id": "0b988b6d",
   "metadata": {
    "deletable": false,
    "editable": false
   },
   "outputs": [],
   "source": [
    "grader.check(\"q3\")"
   ]
  },
  {
   "cell_type": "code",
   "execution_count": null,
   "id": "a348b0b9",
   "metadata": {
    "deletable": false,
    "editable": false
   },
   "outputs": [],
   "source": [
    "# don't change this cell, but do run it -- it is needed for the tests to work\n",
    "diamonds = pd.read_csv(os.path.join('data', 'diamonds.csv'))\n",
    "out_q4 = create_quadratics(diamonds)"
   ]
  },
  {
   "cell_type": "code",
   "execution_count": null,
   "id": "e6e42b42",
   "metadata": {
    "deletable": false,
    "editable": false
   },
   "outputs": [],
   "source": [
    "grader.check(\"q4\")"
   ]
  },
  {
   "cell_type": "code",
   "execution_count": null,
   "id": "e749ef94",
   "metadata": {
    "deletable": false,
    "editable": false
   },
   "outputs": [],
   "source": [
    "from sklearn.linear_model import LinearRegression\n",
    "\n",
    "# X = ...\n",
    "# y = ...\n",
    "\n",
    "# lr = LinearRegression()\n",
    "# lr.fit(X, y)  # X is a DataFrame of training data; y is a Series of prices\n",
    "# lr.score(X, y)  # R-squared\n",
    "# lr.predict(X) # predicted prices"
   ]
  },
  {
   "cell_type": "code",
   "execution_count": null,
   "id": "78d64bdb",
   "metadata": {
    "deletable": false,
    "editable": false
   },
   "outputs": [],
   "source": [
    "# don't change this cell, but do run it -- it is needed for the tests to work\n",
    "import numbers\n",
    "out_q5 = comparing_performance()"
   ]
  },
  {
   "cell_type": "code",
   "execution_count": null,
   "id": "41da4ad3",
   "metadata": {
    "deletable": false,
    "editable": false
   },
   "outputs": [],
   "source": [
    "grader.check(\"q5\")"
   ]
  },
  {
   "cell_type": "code",
   "execution_count": null,
   "id": "73266979",
   "metadata": {
    "deletable": false,
    "editable": false
   },
   "outputs": [],
   "source": [
    "from sklearn.preprocessing import Binarizer, QuantileTransformer, FunctionTransformer"
   ]
  },
  {
   "cell_type": "code",
   "execution_count": null,
   "id": "7e8b6555",
   "metadata": {
    "deletable": false,
    "editable": false
   },
   "outputs": [],
   "source": [
    "# don't change this cell, but do run it -- it is needed for the tests to work\n",
    "diamonds = pd.read_csv(os.path.join('data', 'diamonds.csv'))\n",
    "q6a_trans = TransformDiamonds(diamonds)\n",
    "q6a_out = q6a_trans.transform_carat(diamonds)"
   ]
  },
  {
   "cell_type": "code",
   "execution_count": null,
   "id": "4895a4ee",
   "metadata": {
    "deletable": false,
    "editable": false
   },
   "outputs": [],
   "source": [
    "grader.check(\"q6.1\")"
   ]
  },
  {
   "cell_type": "code",
   "execution_count": null,
   "id": "1f9ab403",
   "metadata": {
    "deletable": false,
    "editable": false
   },
   "outputs": [],
   "source": [
    "# don't change this cell, but do run it -- it is needed for the tests to work\n",
    "q6b_trans = TransformDiamonds(diamonds)\n",
    "q6b_out = q6b_trans.transform_to_quantile(diamonds)\n",
    "q6b_trans_top_1000 = TransformDiamonds(diamonds[:1000])\n",
    "q6b_out_top_1000 = q6b_trans_top_1000.transform_to_quantile(diamonds)"
   ]
  },
  {
   "cell_type": "code",
   "execution_count": null,
   "id": "bac32019",
   "metadata": {
    "deletable": false,
    "editable": false
   },
   "outputs": [],
   "source": [
    "grader.check(\"q6.2\")"
   ]
  },
  {
   "cell_type": "code",
   "execution_count": null,
   "id": "6c0fd8e0",
   "metadata": {
    "deletable": false,
    "editable": false
   },
   "outputs": [],
   "source": [
    "# don't change this cell, but do run it -- it is needed for the tests to work\n",
    "diamonds = pd.read_csv(os.path.join('data', 'diamonds.csv'))\n",
    "q6c_trans = TransformDiamonds(diamonds)\n",
    "q6c_out = q6c_trans.transform_to_depth_pct(diamonds)"
   ]
  },
  {
   "cell_type": "code",
   "execution_count": null,
   "id": "8f5f0576",
   "metadata": {
    "deletable": false,
    "editable": false
   },
   "outputs": [],
   "source": [
    "grader.check(\"q6.3\")"
   ]
  },
  {
   "cell_type": "code",
   "execution_count": null,
   "id": "ec36dd69",
   "metadata": {
    "deletable": false,
    "editable": false
   },
   "outputs": [],
   "source": [
    "grader.check_all()"
   ]
  },
  {
   "cell_type": "markdown",
   "id": "d659a090",
   "metadata": {
    "deletable": false,
    "editable": false
   },
   "source": [
    "\n",
    "If you were able to go to **Kernel > Restart & Run All** and see all test cases pass above, and you've thoroughly tested your code yourself, you're ready to submit `lab.py` to Gradescope!\n",
    "    "
   ]
  }
 ],
 "metadata": {
  "kernelspec": {
   "display_name": "Python 3 (ipykernel)",
   "language": "python",
   "name": "python3"
  },
  "language_info": {
   "codemirror_mode": {
    "name": "ipython",
    "version": 3
   },
   "file_extension": ".py",
   "mimetype": "text/x-python",
   "name": "python",
   "nbconvert_exporter": "python",
   "pygments_lexer": "ipython3",
   "version": "3.10.5"
  },
  "otter": {
   "tests": {
    "q1": {
     "name": "q1",
     "points": null,
     "suites": [
      {
       "cases": [
        {
         "code": ">>> best_transformation() in [1, 2, 3, 4]\nTrue",
         "hidden": false,
         "locked": false,
         "points": 1
        }
       ],
       "scored": true,
       "setup": "",
       "teardown": "",
       "type": "doctest"
      }
     ]
    },
    "q2": {
     "name": "q2",
     "points": null,
     "suites": [
      {
       "cases": [
        {
         "code": ">>> set(out_q2.columns) == {'ordinal_cut', 'ordinal_clarity', 'ordinal_color'}\nTrue",
         "hidden": false,
         "locked": false,
         "points": 0.5
        },
        {
         "code": ">>> np.unique(out_q2['ordinal_cut']).tolist() == [0, 1, 2, 3, 4]\nTrue",
         "hidden": false,
         "locked": false,
         "points": 0.5
        }
       ],
       "scored": true,
       "setup": "",
       "teardown": "",
       "type": "doctest"
      }
     ]
    },
    "q3": {
     "name": "q3",
     "points": null,
     "suites": [
      {
       "cases": [
        {
         "code": ">>> out1_q3.shape == (53940, 20)\nTrue",
         "hidden": false,
         "locked": false,
         "points": 1
        },
        {
         "code": ">>> out1_q3.columns.str.startswith('one_hot').all()\nTrue",
         "hidden": false,
         "locked": false,
         "points": 1
        },
        {
         "code": ">>> out1_q3.isin([0,1]).all().all()\nTrue",
         "hidden": false,
         "locked": false,
         "points": 1
        },
        {
         "code": ">>> out2_q3.shape[1] == 3\nTrue",
         "hidden": false,
         "locked": false,
         "points": 1
        },
        {
         "code": ">>> out2_q3.columns.str.startswith('proportion_').all()\nTrue",
         "hidden": false,
         "locked": false,
         "points": 1
        },
        {
         "code": ">>> ((out2_q3 >= 0) & (out2_q3 <= 1)).all().all()\nTrue",
         "hidden": false,
         "locked": false,
         "points": 1
        }
       ],
       "scored": true,
       "setup": "",
       "teardown": "",
       "type": "doctest"
      }
     ]
    },
    "q4": {
     "name": "q4",
     "points": null,
     "suites": [
      {
       "cases": [
        {
         "code": ">>> out_q4.columns.str.contains(' * ').all()\nTrue",
         "hidden": false,
         "locked": false,
         "points": 1
        },
        {
         "code": ">>> ('x * z' in out_q4.columns) or ('z * x' in out_q4.columns)\nTrue",
         "hidden": false,
         "locked": false,
         "points": 1
        },
        {
         "code": ">>> out_q4.shape[1] == 15\nTrue",
         "hidden": false,
         "locked": false,
         "points": 1
        }
       ],
       "scored": true,
       "setup": "",
       "teardown": "",
       "type": "doctest"
      }
     ]
    },
    "q5": {
     "name": "q5",
     "points": null,
     "suites": [
      {
       "cases": [
        {
         "code": ">>> len(out_q5) == 6\nTrue",
         "hidden": false,
         "locked": false,
         "points": 1
        },
        {
         "code": ">>> isinstance(out_q5[0], numbers.Real)\nTrue",
         "hidden": false,
         "locked": false,
         "points": 1
        },
        {
         "code": ">>> all(isinstance(x, str) for x in out_q5[2:-1])\nTrue",
         "hidden": false,
         "locked": false,
         "points": 1
        },
        {
         "code": ">>> out_q5[1] > out_q5[-1]\nTrue",
         "hidden": false,
         "locked": false,
         "points": 1
        }
       ],
       "scored": true,
       "setup": "",
       "teardown": "",
       "type": "doctest"
      }
     ]
    },
    "q6.1": {
     "name": "q6.1",
     "points": null,
     "suites": [
      {
       "cases": [
        {
         "code": ">>> isinstance(q6a_out, np.ndarray)\nTrue",
         "hidden": false,
         "locked": false,
         "points": 0.5
        },
        {
         "code": ">>> q6a_out[172, 0] == 1\nTrue",
         "hidden": false,
         "locked": false,
         "points": 0.5
        },
        {
         "code": ">>> q6a_out[0, 0] == 0\nTrue",
         "hidden": false,
         "locked": false,
         "points": 0.5
        }
       ],
       "scored": true,
       "setup": "",
       "teardown": "",
       "type": "doctest"
      }
     ]
    },
    "q6.2": {
     "name": "q6.2",
     "points": null,
     "suites": [
      {
       "cases": [
        {
         "code": ">>> isinstance(q6b_out, np.ndarray)\nTrue",
         "hidden": false,
         "locked": false,
         "points": 0.5
        },
        {
         "code": ">>> np.isclose(q6b_out[0, 0], 0.0075757, atol=0.0001)\nTrue",
         "hidden": false,
         "locked": false,
         "points": 0.5
        },
        {
         "code": ">>> np.isclose(q6b_out[1, 0], 0.0025252, atol=0.0001)\nTrue",
         "hidden": false,
         "locked": false,
         "points": 0.5
        }
       ],
       "scored": true,
       "setup": "",
       "teardown": "",
       "type": "doctest"
      }
     ]
    },
    "q6.3": {
     "name": "q6.3",
     "points": null,
     "suites": [
      {
       "cases": [
        {
         "code": ">>> len(q6c_out.shape) == 1\nTrue",
         "hidden": false,
         "locked": false,
         "points": 0.5
        },
        {
         "code": ">>> np.isclose(q6c_out[0], 61.286, atol=0.0001)\nTrue",
         "hidden": false,
         "locked": false,
         "points": 0.5
        }
       ],
       "scored": true,
       "setup": "",
       "teardown": "",
       "type": "doctest"
      }
     ]
    }
   }
  }
 },
 "nbformat": 4,
 "nbformat_minor": 5
}
